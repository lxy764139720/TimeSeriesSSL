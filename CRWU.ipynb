{
 "cells": [
  {
   "cell_type": "code",
   "execution_count": 1,
   "metadata": {
    "collapsed": true,
    "pycharm": {
     "name": "#%%\n"
    }
   },
   "outputs": [],
   "source": [
    "import matplotlib.pyplot as plt\n",
    "import numpy as np\n",
    "import scipy.io as sio\n",
    "import os"
   ]
  },
  {
   "cell_type": "code",
   "execution_count": 6,
   "outputs": [],
   "source": [
    "def load_fault_data():\n",
    "    \"\"\"\n",
    "    Load fault_data of bearing from a sample frequency of 12k\n",
    "    including rolling element, inner race and outer race fault with 7-mil\n",
    "    14-mil,21-mil diameter, we use DE variable for working\n",
    "    Reshape the raw data in a format of (samples,6000)\n",
    "    \"\"\"\n",
    "\n",
    "    path = './CRWU_dataset/12kDriveEnd'\n",
    "    files = os.listdir(path)\n",
    "    temp = []\n",
    "    label = []\n",
    "    for mat in files:\n",
    "        if ('28' not in mat) and ('.mat' in mat):\n",
    "            temp1 = sio.loadmat(os.path.join(path, mat))\n",
    "            for key in temp1.keys():\n",
    "                if 'DE' in key:\n",
    "                    temp.append(temp1[key][:120000])\n",
    "                    if 'B' in mat:\n",
    "                        if '07' in mat:\n",
    "                            label.append([0] * 20)\n",
    "                        if '14' in mat:\n",
    "                            label.append([1] * 20)\n",
    "                        if '21' in mat:\n",
    "                            label.append([2] * 20)\n",
    "                    if 'IR' in mat:\n",
    "                        if '07' in mat:\n",
    "                            label.append([3] * 20)\n",
    "                        if '14' in mat:\n",
    "                            label.append([4] * 20)\n",
    "                        if '21' in mat:\n",
    "                            label.append([5] * 20)\n",
    "                    if 'OR' in mat:\n",
    "                        if '07' in mat:\n",
    "                            label.append([6] * 20)\n",
    "                        if '14' in mat:\n",
    "                            label.append([7] * 20)\n",
    "                        if '21' in mat:\n",
    "                            label.append([8] * 20)\n",
    "    temp = np.asarray(temp)\n",
    "    data1 = temp.reshape((-1, 6000))\n",
    "    label1 = np.asarray(label)\n",
    "    label1 = label1.reshape((-1, 1))\n",
    "    return data1, label1\n",
    "\n",
    "\n",
    "def load_normal_data():\n",
    "    \"\"\"\n",
    "    Load normal_data of bearing\n",
    "    we use DE variable for working\n",
    "    Reshape the raw data in a format of (samples,6000)\n",
    "    \"\"\"\n",
    "\n",
    "    path = './CRWU_dataset/Normal_Baseline_Data'\n",
    "    files = os.listdir(path)\n",
    "    temp = []\n",
    "    label2 = []\n",
    "    for mat in files:\n",
    "        temp1 = sio.loadmat(os.path.join(path, mat))\n",
    "        for key in temp1.keys():\n",
    "            if 'DE' in key:\n",
    "                if 240000 < len(temp1[key]) < 480000:\n",
    "                    temp.append(temp1[key][:240000])\n",
    "                if len(temp1[key]) > 480000:\n",
    "                    temp.append(temp1[key][:480000])\n",
    "    temp2 = np.concatenate((temp[0], temp[1], temp[2], temp[3]))\n",
    "    data2 = temp2.reshape((-1, 6000))\n",
    "    label2 = np.ones((data2.shape[0], 1)) * 9\n",
    "    return data2, label2\n",
    "\n",
    "\n",
    "def concatenate_data():\n",
    "    \"\"\"\n",
    "    combine all data to be a set\n",
    "    \"\"\"\n",
    "\n",
    "    data1, label1 = load_fault_data()\n",
    "    data2, label2 = load_normal_data()\n",
    "    data = np.concatenate((data1, data2))\n",
    "    label = np.concatenate((label1, label2))\n",
    "    return data, label\n",
    "\n",
    "data,label=concatenate_data()"
   ],
   "metadata": {
    "collapsed": false,
    "pycharm": {
     "name": "#%%\n"
    }
   }
  },
  {
   "cell_type": "code",
   "execution_count": null,
   "outputs": [],
   "source": [],
   "metadata": {
    "collapsed": false,
    "pycharm": {
     "name": "#%%\n"
    }
   }
  }
 ],
 "metadata": {
  "kernelspec": {
   "display_name": "Python 3",
   "language": "python",
   "name": "python3"
  },
  "language_info": {
   "codemirror_mode": {
    "name": "ipython",
    "version": 2
   },
   "file_extension": ".py",
   "mimetype": "text/x-python",
   "name": "python",
   "nbconvert_exporter": "python",
   "pygments_lexer": "ipython2",
   "version": "2.7.6"
  }
 },
 "nbformat": 4,
 "nbformat_minor": 0
}